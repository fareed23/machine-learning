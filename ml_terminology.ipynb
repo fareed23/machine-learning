{
 "cells": [
  {
   "cell_type": "markdown",
   "metadata": {},
   "source": [
    "# Framing: Key ML Terminology"
   ]
  },
  {
   "cell_type": "markdown",
   "metadata": {},
   "source": [
    "What is (supervised) machine learning? Concisely put, it is the following:\n",
    "\n",
    "> ML systems learn how to combine input to produce useful predictions on never-before-seen data.\n",
    "Let's explore fundamental machine learning terminology.\n",
    "\n",
    "Labels\n",
    "\n",
    "> A label is the thing we're predicting—the y variable in simple linear regression. The label could be the future price of wheat, the kind of animal shown in a picture, the meaning of an audio clip, or just about anything.\n",
    "\n",
    "Features\n",
    "\n",
    "> A feature is an input variable—the x variable in simple linear regression. A simple machine learning project might use a single feature, while a more sophisticated machine learning project could use millions of features, specified as:\n",
    "\n",
    "In the spam detector example, the features could include the following:\n",
    "\n",
    "- words in the email text\n",
    "- sender's address\n",
    "- time of day the email was sent\n",
    "- email contains the phrase \"one weird trick.\""
   ]
  },
  {
   "cell_type": "markdown",
   "metadata": {},
   "source": [
    "Examples\n",
    "\n",
    "> An example is a particular instance of data, x. (We put x in boldface to indicate that it is a vector.) We break examples into two categories:\n",
    "\n",
    "- labeled examples\n",
    "- unlabeled examples"
   ]
  },
  {
   "cell_type": "markdown",
   "metadata": {},
   "source": [
    "Use labeled examples to train the model. In our spam detector example, the labeled examples would be individual emails that users have explicitly marked as \"spam\" or \"not spam.\"\n",
    "\n",
    "Once we've trained our model with labeled examples, we use that model to predict the label on unlabeled examples. In the spam detector, unlabeled examples are new emails that humans haven't yet labeled."
   ]
  },
  {
   "cell_type": "markdown",
   "metadata": {},
   "source": [
    "Regression vs. Classification\n",
    "\n",
    "> A regression model predicts continuous values. For example, regression models make predictions that answer questions like the following:\n",
    "\n",
    "- What is the value of a house in California?\n",
    "- What is the probability that a user will click on this ad?\n",
    "\n",
    "> A classification model predicts discrete values. For example, classification models make predictions that answer questions like the following:\n",
    "\n",
    "- Is a given email message spam or not spam?\n",
    "- Is this an image of a dog, a cat, or a hamster?"
   ]
  }
 ],
 "metadata": {
  "language_info": {
   "name": "python"
  }
 },
 "nbformat": 4,
 "nbformat_minor": 2
}
