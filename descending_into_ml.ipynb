{
 "cells": [
  {
   "cell_type": "markdown",
   "metadata": {},
   "source": [
    "# Descending into ML"
   ]
  },
  {
   "cell_type": "markdown",
   "metadata": {},
   "source": [
    "Linear regression is a method for finding the straight line or hyperplane that best fits a set of points. This module explores linear regression intuitively before laying the groundwork for a machine learning approach to linear regression."
   ]
  },
  {
   "cell_type": "markdown",
   "metadata": {},
   "source": [
    "$y = w ~1~ x ~1~ + b$\n",
    "- where, *w = weights, x = labels, b = bias*"
   ]
  },
  {
   "cell_type": "markdown",
   "metadata": {},
   "source": [
    "It has long been known that crickets (an insect species) chirp more frequently on hotter days than on cooler days. For decades, professional and amateur scientists have cataloged data on chirps-per-minute and temperature. As a birthday gift, your Aunt Ruth gives you her cricket database and asks you to learn a model to predict this relationship. Using this data, you want to explore this relationship.\n",
    "\n",
    "First, examine your data by plotting it:"
   ]
  },
  {
   "cell_type": "markdown",
   "metadata": {},
   "source": [
    "<img src=\"./images/CricketPoints.svg\">"
   ]
  },
  {
   "cell_type": "markdown",
   "metadata": {},
   "source": [
    "Figure 1. Chirps per Minute vs. Temperature in Celsius.\n",
    "\n",
    "As expected, the plot shows the temperature rising with the number of chirps. Is this relationship between chirps and temperature linear? Yes, you could draw a single straight line like the following to approximate this relationship:"
   ]
  },
  {
   "cell_type": "markdown",
   "metadata": {},
   "source": [
    "<img src=\"./images/CricketLine.svg\">"
   ]
  },
  {
   "cell_type": "markdown",
   "metadata": {},
   "source": [
    "Figure 2. A linear relationship.\n",
    "\n",
    "True, the line doesn't pass through every dot, but the line does clearly show the relationship between chirps and temperature. Using the equation for a line, you could write down this relationship as follows:\n",
    "\n",
    "$y = mx + b$\n",
    "\n",
    "where:\n",
    "\n",
    " is the temperature in Celsius—the value we're trying to predict.\n",
    " is the slope of the line.\n",
    " is the number of chirps per minute—the value of our input feature.\n",
    " is the y-intercept.\n",
    "By convention in machine learning, you'll write the equation for a model slightly differently:\n",
    "\n",
    "$y = b = w ~1~ x ~1~$\n",
    "\n",
    "where:\n",
    "\n",
    " is the predicted label (a desired output).\n",
    " is the bias (the y-intercept), sometimes referred to as \n",
    ".\n",
    " is the weight of feature 1. Weight is the same concept as the \"slope\" \n",
    " in the traditional equation of a line.\n",
    " is a feature (a known input).\n",
    "To infer (predict) the temperature \n",
    " for a new chirps-per-minute value \n",
    ", just substitute the \n",
    " value into this model.\n",
    "\n",
    "Although this model uses only one feature, a more sophisticated model might rely on multiple features, each having a separate weight (etc.). For example, a model that relies on three features might look as follows:\n",
    "\n",
    "$y' = b + w ~1~ x ~1~ + w ~2~ x ~2~ + w ~3~ x ~3~ ... + w ~n~ + x ~n~$ "
   ]
  }
 ],
 "metadata": {
  "language_info": {
   "name": "python"
  }
 },
 "nbformat": 4,
 "nbformat_minor": 2
}
